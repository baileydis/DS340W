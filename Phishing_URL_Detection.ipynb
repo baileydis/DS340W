{
  "metadata": {
    "kernelspec": {
      "language": "python",
      "display_name": "Python 3",
      "name": "python3"
    },
    "language_info": {
      "name": "python",
      "version": "3.7.12",
      "mimetype": "text/x-python",
      "codemirror_mode": {
        "name": "ipython",
        "version": 3
      },
      "pygments_lexer": "ipython3",
      "nbconvert_exporter": "python",
      "file_extension": ".py"
    },
    "colab": {
      "provenance": []
    }
  },
  "nbformat_minor": 0,
  "nbformat": 4,
  "cells": [
    {
      "cell_type": "code",
      "source": [
        "import numpy as np \n",
        "import pandas as pd \n",
        "\n",
        "\n",
        "from google.colab import drive\n",
        "drive.mount(\"/content/drive\", force_remount=True)\n",
        "\n",
        "df = pd.read_csv(\"/content/drive/My Drive/DS340W/phishing_urls.csv\")\n",
        "\n"
      ],
      "metadata": {
        "_uuid": "8f2839f25d086af736a60e9eeb907d3b93b6e0e5",
        "_cell_guid": "b1076dfc-b9ad-4769-8c92-a6c4dae69d19",
        "execution": {
          "iopub.status.busy": "2022-07-04T11:59:23.976601Z",
          "iopub.execute_input": "2022-07-04T11:59:23.978054Z",
          "iopub.status.idle": "2022-07-04T11:59:24.012943Z",
          "shell.execute_reply.started": "2022-07-04T11:59:23.977844Z",
          "shell.execute_reply": "2022-07-04T11:59:24.011903Z"
        },
        "trusted": true,
        "colab": {
          "base_uri": "https://localhost:8080/"
        },
        "id": "bU8NzNIxcR5i",
        "outputId": "864f456f-c92d-4058-acfc-2eea3be9c0a8"
      },
      "execution_count": 4,
      "outputs": [
        {
          "output_type": "stream",
          "name": "stdout",
          "text": [
            "Mounted at /content/drive\n"
          ]
        }
      ]
    },
    {
      "cell_type": "markdown",
      "source": [
        "# Import the libraries"
      ],
      "metadata": {
        "id": "QDLd4kXEcR5n"
      }
    },
    {
      "cell_type": "code",
      "source": [
        "import matplotlib.pyplot as plt\n",
        "import seaborn as sns\n",
        "from nltk.tokenize import RegexpTokenizer\n",
        "from nltk.stem.snowball import SnowballStemmer\n",
        "from sklearn.feature_extraction.text import CountVectorizer\n",
        "from sklearn.model_selection import train_test_split\n",
        "from sklearn.utils import shuffle\n",
        "from sklearn.metrics import accuracy_score, precision_score, recall_score, confusion_matrix\n",
        "from sklearn.preprocessing import OneHotEncoder\n",
        "from tensorflow import keras\n",
        "from keras.models import Sequential\n",
        "from keras import Input\n",
        "from keras.layers import Dense"
      ],
      "metadata": {
        "execution": {
          "iopub.status.busy": "2022-07-04T11:59:24.282309Z",
          "iopub.execute_input": "2022-07-04T11:59:24.283645Z",
          "iopub.status.idle": "2022-07-04T11:59:27.241311Z",
          "shell.execute_reply.started": "2022-07-04T11:59:24.283591Z",
          "shell.execute_reply": "2022-07-04T11:59:27.239891Z"
        },
        "trusted": true,
        "id": "vIus2OCDcR5o"
      },
      "execution_count": 5,
      "outputs": []
    },
    {
      "cell_type": "markdown",
      "source": [
        "# Read the data"
      ],
      "metadata": {
        "id": "aokKd0qAcR5o"
      }
    },
    {
      "cell_type": "code",
      "source": [
        "print(df.shape)\n",
        "df.head()"
      ],
      "metadata": {
        "execution": {
          "iopub.status.busy": "2022-07-04T11:59:27.243560Z",
          "iopub.execute_input": "2022-07-04T11:59:27.244373Z",
          "iopub.status.idle": "2022-07-04T11:59:28.108026Z",
          "shell.execute_reply.started": "2022-07-04T11:59:27.244330Z",
          "shell.execute_reply": "2022-07-04T11:59:28.106817Z"
        },
        "trusted": true,
        "colab": {
          "base_uri": "https://localhost:8080/",
          "height": 224
        },
        "id": "nxQz7PQvcR5p",
        "outputId": "130c9f6a-c3ab-4fa9-d4a2-e3f70ef6c0c8"
      },
      "execution_count": 6,
      "outputs": [
        {
          "output_type": "stream",
          "name": "stdout",
          "text": [
            "(549346, 2)\n"
          ]
        },
        {
          "output_type": "execute_result",
          "data": {
            "text/plain": [
              "                                                 URL Label\n",
              "0  nobell.it/70ffb52d079109dca5664cce6f317373782/...   bad\n",
              "1  www.dghjdgf.com/paypal.co.uk/cycgi-bin/webscrc...   bad\n",
              "2  serviciosbys.com/paypal.cgi.bin.get-into.herf....   bad\n",
              "3  mail.printakid.com/www.online.americanexpress....   bad\n",
              "4  thewhiskeydregs.com/wp-content/themes/widescre...   bad"
            ],
            "text/html": [
              "\n",
              "  <div id=\"df-f7ad67ab-bd7e-4d7b-85ff-60258e944ed3\">\n",
              "    <div class=\"colab-df-container\">\n",
              "      <div>\n",
              "<style scoped>\n",
              "    .dataframe tbody tr th:only-of-type {\n",
              "        vertical-align: middle;\n",
              "    }\n",
              "\n",
              "    .dataframe tbody tr th {\n",
              "        vertical-align: top;\n",
              "    }\n",
              "\n",
              "    .dataframe thead th {\n",
              "        text-align: right;\n",
              "    }\n",
              "</style>\n",
              "<table border=\"1\" class=\"dataframe\">\n",
              "  <thead>\n",
              "    <tr style=\"text-align: right;\">\n",
              "      <th></th>\n",
              "      <th>URL</th>\n",
              "      <th>Label</th>\n",
              "    </tr>\n",
              "  </thead>\n",
              "  <tbody>\n",
              "    <tr>\n",
              "      <th>0</th>\n",
              "      <td>nobell.it/70ffb52d079109dca5664cce6f317373782/...</td>\n",
              "      <td>bad</td>\n",
              "    </tr>\n",
              "    <tr>\n",
              "      <th>1</th>\n",
              "      <td>www.dghjdgf.com/paypal.co.uk/cycgi-bin/webscrc...</td>\n",
              "      <td>bad</td>\n",
              "    </tr>\n",
              "    <tr>\n",
              "      <th>2</th>\n",
              "      <td>serviciosbys.com/paypal.cgi.bin.get-into.herf....</td>\n",
              "      <td>bad</td>\n",
              "    </tr>\n",
              "    <tr>\n",
              "      <th>3</th>\n",
              "      <td>mail.printakid.com/www.online.americanexpress....</td>\n",
              "      <td>bad</td>\n",
              "    </tr>\n",
              "    <tr>\n",
              "      <th>4</th>\n",
              "      <td>thewhiskeydregs.com/wp-content/themes/widescre...</td>\n",
              "      <td>bad</td>\n",
              "    </tr>\n",
              "  </tbody>\n",
              "</table>\n",
              "</div>\n",
              "      <button class=\"colab-df-convert\" onclick=\"convertToInteractive('df-f7ad67ab-bd7e-4d7b-85ff-60258e944ed3')\"\n",
              "              title=\"Convert this dataframe to an interactive table.\"\n",
              "              style=\"display:none;\">\n",
              "        \n",
              "  <svg xmlns=\"http://www.w3.org/2000/svg\" height=\"24px\"viewBox=\"0 0 24 24\"\n",
              "       width=\"24px\">\n",
              "    <path d=\"M0 0h24v24H0V0z\" fill=\"none\"/>\n",
              "    <path d=\"M18.56 5.44l.94 2.06.94-2.06 2.06-.94-2.06-.94-.94-2.06-.94 2.06-2.06.94zm-11 1L8.5 8.5l.94-2.06 2.06-.94-2.06-.94L8.5 2.5l-.94 2.06-2.06.94zm10 10l.94 2.06.94-2.06 2.06-.94-2.06-.94-.94-2.06-.94 2.06-2.06.94z\"/><path d=\"M17.41 7.96l-1.37-1.37c-.4-.4-.92-.59-1.43-.59-.52 0-1.04.2-1.43.59L10.3 9.45l-7.72 7.72c-.78.78-.78 2.05 0 2.83L4 21.41c.39.39.9.59 1.41.59.51 0 1.02-.2 1.41-.59l7.78-7.78 2.81-2.81c.8-.78.8-2.07 0-2.86zM5.41 20L4 18.59l7.72-7.72 1.47 1.35L5.41 20z\"/>\n",
              "  </svg>\n",
              "      </button>\n",
              "      \n",
              "  <style>\n",
              "    .colab-df-container {\n",
              "      display:flex;\n",
              "      flex-wrap:wrap;\n",
              "      gap: 12px;\n",
              "    }\n",
              "\n",
              "    .colab-df-convert {\n",
              "      background-color: #E8F0FE;\n",
              "      border: none;\n",
              "      border-radius: 50%;\n",
              "      cursor: pointer;\n",
              "      display: none;\n",
              "      fill: #1967D2;\n",
              "      height: 32px;\n",
              "      padding: 0 0 0 0;\n",
              "      width: 32px;\n",
              "    }\n",
              "\n",
              "    .colab-df-convert:hover {\n",
              "      background-color: #E2EBFA;\n",
              "      box-shadow: 0px 1px 2px rgba(60, 64, 67, 0.3), 0px 1px 3px 1px rgba(60, 64, 67, 0.15);\n",
              "      fill: #174EA6;\n",
              "    }\n",
              "\n",
              "    [theme=dark] .colab-df-convert {\n",
              "      background-color: #3B4455;\n",
              "      fill: #D2E3FC;\n",
              "    }\n",
              "\n",
              "    [theme=dark] .colab-df-convert:hover {\n",
              "      background-color: #434B5C;\n",
              "      box-shadow: 0px 1px 3px 1px rgba(0, 0, 0, 0.15);\n",
              "      filter: drop-shadow(0px 1px 2px rgba(0, 0, 0, 0.3));\n",
              "      fill: #FFFFFF;\n",
              "    }\n",
              "  </style>\n",
              "\n",
              "      <script>\n",
              "        const buttonEl =\n",
              "          document.querySelector('#df-f7ad67ab-bd7e-4d7b-85ff-60258e944ed3 button.colab-df-convert');\n",
              "        buttonEl.style.display =\n",
              "          google.colab.kernel.accessAllowed ? 'block' : 'none';\n",
              "\n",
              "        async function convertToInteractive(key) {\n",
              "          const element = document.querySelector('#df-f7ad67ab-bd7e-4d7b-85ff-60258e944ed3');\n",
              "          const dataTable =\n",
              "            await google.colab.kernel.invokeFunction('convertToInteractive',\n",
              "                                                     [key], {});\n",
              "          if (!dataTable) return;\n",
              "\n",
              "          const docLinkHtml = 'Like what you see? Visit the ' +\n",
              "            '<a target=\"_blank\" href=https://colab.research.google.com/notebooks/data_table.ipynb>data table notebook</a>'\n",
              "            + ' to learn more about interactive tables.';\n",
              "          element.innerHTML = '';\n",
              "          dataTable['output_type'] = 'display_data';\n",
              "          await google.colab.output.renderOutput(dataTable, element);\n",
              "          const docLink = document.createElement('div');\n",
              "          docLink.innerHTML = docLinkHtml;\n",
              "          element.appendChild(docLink);\n",
              "        }\n",
              "      </script>\n",
              "    </div>\n",
              "  </div>\n",
              "  "
            ]
          },
          "metadata": {},
          "execution_count": 6
        }
      ]
    },
    {
      "cell_type": "code",
      "source": [
        "df.Label.value_counts()"
      ],
      "metadata": {
        "execution": {
          "iopub.status.busy": "2022-07-04T11:59:28.110015Z",
          "iopub.execute_input": "2022-07-04T11:59:28.110404Z",
          "iopub.status.idle": "2022-07-04T11:59:28.150946Z",
          "shell.execute_reply.started": "2022-07-04T11:59:28.110367Z",
          "shell.execute_reply": "2022-07-04T11:59:28.149409Z"
        },
        "trusted": true,
        "colab": {
          "base_uri": "https://localhost:8080/"
        },
        "id": "qHXkw24WcR5p",
        "outputId": "dbd19c98-1105-481a-e7f5-bdeaed02c700"
      },
      "execution_count": 7,
      "outputs": [
        {
          "output_type": "execute_result",
          "data": {
            "text/plain": [
              "good    392924\n",
              "bad     156422\n",
              "Name: Label, dtype: int64"
            ]
          },
          "metadata": {},
          "execution_count": 7
        }
      ]
    },
    {
      "cell_type": "code",
      "source": [
        "sns.countplot(data=df, x=\"Label\")\n",
        "plt.show()"
      ],
      "metadata": {
        "execution": {
          "iopub.status.busy": "2022-07-04T11:59:28.153545Z",
          "iopub.execute_input": "2022-07-04T11:59:28.153930Z",
          "iopub.status.idle": "2022-07-04T11:59:28.656173Z",
          "shell.execute_reply.started": "2022-07-04T11:59:28.153896Z",
          "shell.execute_reply": "2022-07-04T11:59:28.654470Z"
        },
        "trusted": true,
        "colab": {
          "base_uri": "https://localhost:8080/",
          "height": 279
        },
        "id": "yw_bA_D6cR5p",
        "outputId": "7cf1a8e6-ddb9-4af4-c07b-11911a256ebe"
      },
      "execution_count": 8,
      "outputs": [
        {
          "output_type": "display_data",
          "data": {
            "text/plain": [
              "<Figure size 432x288 with 1 Axes>"
            ],
            "image/png": "[encoded data removed]"
          },
          "metadata": {
            "needs_background": "light"
          }
        }
      ]
    },
    {
      "cell_type": "markdown",
      "source": [
        "# Shuffle the data"
      ],
      "metadata": {
        "id": "44qowpSScR5q"
      }
    },
    {
      "cell_type": "code",
      "source": [
        "df_shuffled = shuffle(df, random_state=42)"
      ],
      "metadata": {
        "execution": {
          "iopub.status.busy": "2022-07-04T11:59:28.657572Z",
          "iopub.execute_input": "2022-07-04T11:59:28.658262Z",
          "iopub.status.idle": "2022-07-04T11:59:28.807843Z",
          "shell.execute_reply.started": "2022-07-04T11:59:28.658223Z",
          "shell.execute_reply": "2022-07-04T11:59:28.806356Z"
        },
        "trusted": true,
        "id": "68PZ7ngvcR5q"
      },
      "execution_count": 9,
      "outputs": []
    },
    {
      "cell_type": "markdown",
      "source": [
        "# Choose 5000 samples"
      ],
      "metadata": {
        "id": "GeWy8vmJcR5q"
      }
    },
    {
      "cell_type": "code",
      "source": [
        "data_size = 5000"
      ],
      "metadata": {
        "execution": {
          "iopub.status.busy": "2022-07-04T11:59:28.811476Z",
          "iopub.execute_input": "2022-07-04T11:59:28.812013Z",
          "iopub.status.idle": "2022-07-04T11:59:28.817899Z",
          "shell.execute_reply.started": "2022-07-04T11:59:28.811964Z",
          "shell.execute_reply": "2022-07-04T11:59:28.816129Z"
        },
        "trusted": true,
        "id": "peroESqFcR5q"
      },
      "execution_count": 10,
      "outputs": []
    },
    {
      "cell_type": "code",
      "source": [
        "df_used = df_shuffled[:data_size].copy()"
      ],
      "metadata": {
        "execution": {
          "iopub.status.busy": "2022-07-04T11:59:28.819980Z",
          "iopub.execute_input": "2022-07-04T11:59:28.820944Z",
          "iopub.status.idle": "2022-07-04T11:59:28.832661Z",
          "shell.execute_reply.started": "2022-07-04T11:59:28.820891Z",
          "shell.execute_reply": "2022-07-04T11:59:28.831337Z"
        },
        "trusted": true,
        "id": "xyTukGZ5cR5q"
      },
      "execution_count": 11,
      "outputs": []
    },
    {
      "cell_type": "markdown",
      "source": [
        "# Make sure the distribution is the same after taking the sample"
      ],
      "metadata": {
        "id": "3TBH9-decR5r"
      }
    },
    {
      "cell_type": "code",
      "source": [
        "sns.countplot(data=df_used, x=\"Label\")\n",
        "plt.show()"
      ],
      "metadata": {
        "execution": {
          "iopub.status.busy": "2022-07-04T11:59:28.834339Z",
          "iopub.execute_input": "2022-07-04T11:59:28.834757Z",
          "iopub.status.idle": "2022-07-04T11:59:29.004908Z",
          "shell.execute_reply.started": "2022-07-04T11:59:28.834713Z",
          "shell.execute_reply": "2022-07-04T11:59:29.003938Z"
        },
        "trusted": true,
        "colab": {
          "base_uri": "https://localhost:8080/",
          "height": 279
        },
        "id": "I7F7A1gecR5r",
        "outputId": "2e0d263a-bf27-4066-c17d-1ed33f061839"
      },
      "execution_count": 12,
      "outputs": [
        {
          "output_type": "display_data",
          "data": {
            "text/plain": [
              "<Figure size 432x288 with 1 Axes>"
            ],
            "image/png": "[encoded data removed]"
          },
          "metadata": {
            "needs_background": "light"
          }
        }
      ]
    },
    {
      "cell_type": "code",
      "source": [
        "df_used.info()"
      ],
      "metadata": {
        "execution": {
          "iopub.status.busy": "2022-07-04T11:59:29.006024Z",
          "iopub.execute_input": "2022-07-04T11:59:29.006730Z",
          "iopub.status.idle": "2022-07-04T11:59:29.021524Z",
          "shell.execute_reply.started": "2022-07-04T11:59:29.006667Z",
          "shell.execute_reply": "2022-07-04T11:59:29.020583Z"
        },
        "trusted": true,
        "colab": {
          "base_uri": "https://localhost:8080/"
        },
        "id": "Qi-1SspDcR5r",
        "outputId": "3ad91e46-1a77-4974-9ea1-daae30abbb8c"
      },
      "execution_count": 13,
      "outputs": [
        {
          "output_type": "stream",
          "name": "stdout",
          "text": [
            "<class 'pandas.core.frame.DataFrame'>\n",
            "Int64Index: 5000 entries, 452638 to 170545\n",
            "Data columns (total 2 columns):\n",
            " #   Column  Non-Null Count  Dtype \n",
            "---  ------  --------------  ----- \n",
            " 0   URL     5000 non-null   object\n",
            " 1   Label   5000 non-null   object\n",
            "dtypes: object(2)\n",
            "memory usage: 246.2+ KB\n"
          ]
        }
      ]
    },
    {
      "cell_type": "markdown",
      "source": [
        "# Replace the labels"
      ],
      "metadata": {
        "id": "GR0UZhhqcR5r"
      }
    },
    {
      "cell_type": "code",
      "source": [
        "df_used.replace({'good':0, 'bad':1}, inplace=True)"
      ],
      "metadata": {
        "execution": {
          "iopub.status.busy": "2022-07-04T11:59:29.024677Z",
          "iopub.execute_input": "2022-07-04T11:59:29.025644Z",
          "iopub.status.idle": "2022-07-04T11:59:29.043400Z",
          "shell.execute_reply.started": "2022-07-04T11:59:29.025598Z",
          "shell.execute_reply": "2022-07-04T11:59:29.042509Z"
        },
        "trusted": true,
        "id": "rcmnydNdcR5r"
      },
      "execution_count": 14,
      "outputs": []
    },
    {
      "cell_type": "code",
      "source": [
        "df_used.Label.value_counts()"
      ],
      "metadata": {
        "execution": {
          "iopub.status.busy": "2022-07-04T11:59:29.045196Z",
          "iopub.execute_input": "2022-07-04T11:59:29.046476Z",
          "iopub.status.idle": "2022-07-04T11:59:29.060692Z",
          "shell.execute_reply.started": "2022-07-04T11:59:29.046406Z",
          "shell.execute_reply": "2022-07-04T11:59:29.059328Z"
        },
        "trusted": true,
        "colab": {
          "base_uri": "https://localhost:8080/"
        },
        "id": "c_DO5QGXcR5s",
        "outputId": "9a0ff5eb-df5a-4c46-d0a7-a28eb2f8647e"
      },
      "execution_count": 15,
      "outputs": [
        {
          "output_type": "execute_result",
          "data": {
            "text/plain": [
              "0    3562\n",
              "1    1438\n",
              "Name: Label, dtype: int64"
            ]
          },
          "metadata": {},
          "execution_count": 15
        }
      ]
    },
    {
      "cell_type": "markdown",
      "source": [
        "# Divide the data into features and labels"
      ],
      "metadata": {
        "id": "5vAXr7L3cR5s"
      }
    },
    {
      "cell_type": "code",
      "source": [
        "X = df_used[['URL']].copy()\n",
        "y = df_used.Label.copy()"
      ],
      "metadata": {
        "execution": {
          "iopub.status.busy": "2022-07-04T11:59:29.062553Z",
          "iopub.execute_input": "2022-07-04T11:59:29.063315Z",
          "iopub.status.idle": "2022-07-04T11:59:29.075697Z",
          "shell.execute_reply.started": "2022-07-04T11:59:29.063267Z",
          "shell.execute_reply": "2022-07-04T11:59:29.074451Z"
        },
        "trusted": true,
        "id": "nbDr0XIucR5s"
      },
      "execution_count": 16,
      "outputs": []
    },
    {
      "cell_type": "markdown",
      "source": [
        "# Initialize the tokenizer, stemmer, and Vectorizer"
      ],
      "metadata": {
        "id": "HGLFsNPZcR5s"
      }
    },
    {
      "cell_type": "code",
      "source": [
        "tokenizer = RegexpTokenizer(r'[A-Za-z]+')\n",
        "stemmer = SnowballStemmer(\"english\")\n",
        "cv = CountVectorizer()"
      ],
      "metadata": {
        "execution": {
          "iopub.status.busy": "2022-07-04T11:59:29.078019Z",
          "iopub.execute_input": "2022-07-04T11:59:29.079142Z",
          "iopub.status.idle": "2022-07-04T11:59:29.090069Z",
          "shell.execute_reply.started": "2022-07-04T11:59:29.079095Z",
          "shell.execute_reply": "2022-07-04T11:59:29.088752Z"
        },
        "trusted": true,
        "id": "V7KAsp_jcR5s"
      },
      "execution_count": 17,
      "outputs": []
    },
    {
      "cell_type": "markdown",
      "source": [
        "# Prepare the data"
      ],
      "metadata": {
        "id": "y5swG_zRcR5s"
      }
    },
    {
      "cell_type": "code",
      "source": [
        "def prepare_data(X) :\n",
        "    X['text_tokenized'] = X.URL.map(lambda t: tokenizer.tokenize(t))\n",
        "    X['text_stemmed'] = X.text_tokenized.map(lambda t: [stemmer.stem(word) for word in t])\n",
        "    X['text_sent'] = X.text_stemmed.map(lambda t: ' '.join(t))\n",
        "    features = cv.fit_transform(X.text_sent)\n",
        "    return X, features"
      ],
      "metadata": {
        "execution": {
          "iopub.status.busy": "2022-07-04T11:59:29.091658Z",
          "iopub.execute_input": "2022-07-04T11:59:29.092138Z",
          "iopub.status.idle": "2022-07-04T11:59:29.109806Z",
          "shell.execute_reply.started": "2022-07-04T11:59:29.092101Z",
          "shell.execute_reply": "2022-07-04T11:59:29.108249Z"
        },
        "trusted": true,
        "id": "d7JcNL_dcR5t"
      },
      "execution_count": 18,
      "outputs": []
    },
    {
      "cell_type": "code",
      "source": [
        "X, features = prepare_data(X)"
      ],
      "metadata": {
        "execution": {
          "iopub.status.busy": "2022-07-04T11:59:29.111436Z",
          "iopub.execute_input": "2022-07-04T11:59:29.112140Z",
          "iopub.status.idle": "2022-07-04T11:59:29.608485Z",
          "shell.execute_reply.started": "2022-07-04T11:59:29.112092Z",
          "shell.execute_reply": "2022-07-04T11:59:29.607039Z"
        },
        "trusted": true,
        "id": "wlQwUY0ecR5t"
      },
      "execution_count": 19,
      "outputs": []
    },
    {
      "cell_type": "markdown",
      "source": [
        "# Import and intitialize the models"
      ],
      "metadata": {
        "id": "ccik6aubcR5t"
      }
    },
    {
      "cell_type": "code",
      "source": [
        "from sklearn.linear_model import LogisticRegression\n",
        "from sklearn.neighbors import KNeighborsClassifier\n",
        "from sklearn.tree import DecisionTreeClassifier\n",
        "from sklearn.ensemble import RandomForestClassifier\n",
        "from sklearn.svm import SVC"
      ],
      "metadata": {
        "execution": {
          "iopub.status.busy": "2022-07-04T11:59:29.610107Z",
          "iopub.execute_input": "2022-07-04T11:59:29.611186Z",
          "iopub.status.idle": "2022-07-04T11:59:29.652259Z",
          "shell.execute_reply.started": "2022-07-04T11:59:29.611042Z",
          "shell.execute_reply": "2022-07-04T11:59:29.650883Z"
        },
        "trusted": true,
        "id": "YzCs1iEucR5t"
      },
      "execution_count": 20,
      "outputs": []
    },
    {
      "cell_type": "code",
      "source": [
        "logreg = LogisticRegression()\n",
        "knn = KNeighborsClassifier()\n",
        "dtree = DecisionTreeClassifier()\n",
        "rfc = RandomForestClassifier()\n",
        "svc = SVC()"
      ],
      "metadata": {
        "execution": {
          "iopub.status.busy": "2022-07-04T11:59:29.655654Z",
          "iopub.execute_input": "2022-07-04T11:59:29.656177Z",
          "iopub.status.idle": "2022-07-04T11:59:29.661919Z",
          "shell.execute_reply.started": "2022-07-04T11:59:29.656137Z",
          "shell.execute_reply": "2022-07-04T11:59:29.660873Z"
        },
        "trusted": true,
        "id": "3dWRIO70cR5t"
      },
      "execution_count": 21,
      "outputs": []
    },
    {
      "cell_type": "markdown",
      "source": [
        "# Train and test the models using different training percentages"
      ],
      "metadata": {
        "id": "Xnilu3M0cR5t"
      }
    },
    {
      "cell_type": "code",
      "source": [
        "def train_test_model(model, X, y, training_percentage) :\n",
        "    trainX, testX, trainY, testY = train_test_split(X, y, test_size=1-training_percentage, stratify=y, random_state=42)\n",
        "    model.fit(trainX, trainY)\n",
        "    predY = model.predict(testX)\n",
        "    accuracy = accuracy_score(testY, predY)\n",
        "    precision = precision_score(testY, predY, pos_label=1)\n",
        "    recall = recall_score(testY, predY, pos_label=1)\n",
        "    return accuracy, precision, recall  "
      ],
      "metadata": {
        "execution": {
          "iopub.status.busy": "2022-07-04T11:59:29.664527Z",
          "iopub.execute_input": "2022-07-04T11:59:29.664893Z",
          "iopub.status.idle": "2022-07-04T11:59:29.678490Z",
          "shell.execute_reply.started": "2022-07-04T11:59:29.664861Z",
          "shell.execute_reply": "2022-07-04T11:59:29.677054Z"
        },
        "trusted": true,
        "id": "3M2B9-JccR5t"
      },
      "execution_count": 22,
      "outputs": []
    },
    {
      "cell_type": "code",
      "source": [
        "training_sizes = np.array([0.1, 0.2, 0.3, 0.4, 0.5, 0.6, 0.7, 0.8, 0.9])"
      ],
      "metadata": {
        "execution": {
          "iopub.status.busy": "2022-07-04T11:59:29.680545Z",
          "iopub.execute_input": "2022-07-04T11:59:29.680924Z",
          "iopub.status.idle": "2022-07-04T11:59:29.693380Z",
          "shell.execute_reply.started": "2022-07-04T11:59:29.680890Z",
          "shell.execute_reply": "2022-07-04T11:59:29.692359Z"
        },
        "trusted": true,
        "id": "lTg2kUIfcR5t"
      },
      "execution_count": 23,
      "outputs": []
    },
    {
      "cell_type": "code",
      "source": [
        "def model_results(model) :\n",
        "    results = []\n",
        "    for p in training_sizes :\n",
        "        results.append(train_test_model(model, features, y, p))\n",
        "    return pd.DataFrame(results, columns=['Accuracy', 'Precision', 'Recall'])"
      ],
      "metadata": {
        "execution": {
          "iopub.status.busy": "2022-07-04T11:59:29.694694Z",
          "iopub.execute_input": "2022-07-04T11:59:29.695642Z",
          "iopub.status.idle": "2022-07-04T11:59:29.708490Z",
          "shell.execute_reply.started": "2022-07-04T11:59:29.695602Z",
          "shell.execute_reply": "2022-07-04T11:59:29.707425Z"
        },
        "trusted": true,
        "id": "yTVQQjl3cR5u"
      },
      "execution_count": 24,
      "outputs": []
    },
    {
      "cell_type": "code",
      "source": [
        "logreg_results = model_results(logreg)\n",
        "knn_results = model_results(knn)\n",
        "dtree_results = model_results(dtree)\n",
        "rfc_results = model_results(rfc)\n",
        "svc_results = model_results(svc)"
      ],
      "metadata": {
        "execution": {
          "iopub.status.busy": "2022-07-04T11:59:29.853966Z",
          "iopub.execute_input": "2022-07-04T11:59:29.855223Z",
          "iopub.status.idle": "2022-07-04T12:00:24.818958Z",
          "shell.execute_reply.started": "2022-07-04T11:59:29.855180Z",
          "shell.execute_reply": "2022-07-04T12:00:24.817415Z"
        },
        "trusted": true,
        "id": "Dgj0XqgFcR5u"
      },
      "execution_count": 25,
      "outputs": []
    },
    {
      "cell_type": "code",
      "source": [
        "models = ['Logistic Regression', 'KNN', 'Decision Tree', 'Random Forest', 'SVM']\n",
        "model_results = [logreg_results, knn_results, dtree_results, rfc_results, svc_results]"
      ],
      "metadata": {
        "execution": {
          "iopub.status.busy": "2022-07-04T12:00:24.821495Z",
          "iopub.execute_input": "2022-07-04T12:00:24.822029Z",
          "iopub.status.idle": "2022-07-04T12:00:24.829614Z",
          "shell.execute_reply.started": "2022-07-04T12:00:24.821978Z",
          "shell.execute_reply": "2022-07-04T12:00:24.828145Z"
        },
        "trusted": true,
        "id": "EepHkooMcR5u"
      },
      "execution_count": 26,
      "outputs": []
    },
    {
      "cell_type": "code",
      "source": [
        "accuracies = []\n",
        "precisions = []\n",
        "recalls = []\n",
        "for model in model_results :\n",
        "    accuracies.append(model.Accuracy.values)\n",
        "    precisions.append(model.Precision.values)\n",
        "    recalls.append(model.Recall.values)"
      ],
      "metadata": {
        "execution": {
          "iopub.status.busy": "2022-07-04T12:00:24.831311Z",
          "iopub.execute_input": "2022-07-04T12:00:24.831715Z",
          "iopub.status.idle": "2022-07-04T12:00:24.846619Z",
          "shell.execute_reply.started": "2022-07-04T12:00:24.831677Z",
          "shell.execute_reply": "2022-07-04T12:00:24.845022Z"
        },
        "trusted": true,
        "id": "2OEJODfncR5u"
      },
      "execution_count": 27,
      "outputs": []
    },
    {
      "cell_type": "code",
      "source": [
        "accuracies = pd.DataFrame(np.transpose(accuracies), columns=models, index=training_sizes*100)\n",
        "precisions = pd.DataFrame(np.transpose(precisions), columns=models, index=training_sizes*100)\n",
        "recalls = pd.DataFrame(np.transpose(recalls), columns=models, index=training_sizes*100)"
      ],
      "metadata": {
        "execution": {
          "iopub.status.busy": "2022-07-04T12:00:24.850095Z",
          "iopub.execute_input": "2022-07-04T12:00:24.850502Z",
          "iopub.status.idle": "2022-07-04T12:00:24.866906Z",
          "shell.execute_reply.started": "2022-07-04T12:00:24.850444Z",
          "shell.execute_reply": "2022-07-04T12:00:24.865437Z"
        },
        "trusted": true,
        "id": "VUdKMAQ5cR5u"
      },
      "execution_count": 28,
      "outputs": []
    },
    {
      "cell_type": "code",
      "source": [
        "accuracies"
      ],
      "metadata": {
        "execution": {
          "iopub.status.busy": "2022-07-04T12:00:24.868866Z",
          "iopub.execute_input": "2022-07-04T12:00:24.869286Z",
          "iopub.status.idle": "2022-07-04T12:00:24.891275Z",
          "shell.execute_reply.started": "2022-07-04T12:00:24.869248Z",
          "shell.execute_reply": "2022-07-04T12:00:24.889572Z"
        },
        "trusted": true,
        "colab": {
          "base_uri": "https://localhost:8080/",
          "height": 332
        },
        "id": "LMgW3Ki7cR5u",
        "outputId": "431b892e-fd33-4742-e9a0-f05826c60652"
      },
      "execution_count": 29,
      "outputs": [
        {
          "output_type": "execute_result",
          "data": {
            "text/plain": [
              "      Logistic Regression       KNN  Decision Tree  Random Forest       SVM\n",
              "10.0             0.830667  0.739778       0.819111       0.845556  0.783111\n",
              "20.0             0.863500  0.727750       0.843000       0.871500  0.832750\n",
              "30.0             0.881429  0.726286       0.856571       0.879714  0.847143\n",
              "40.0             0.885667  0.736000       0.858000       0.886000  0.856333\n",
              "50.0             0.892400  0.750800       0.866000       0.893200  0.864400\n",
              "60.0             0.900500  0.750000       0.863500       0.898000  0.872500\n",
              "70.0             0.909394  0.765490       0.874750       0.904064  0.880746\n",
              "80.0             0.902000  0.742000       0.876000       0.900000  0.878000\n",
              "90.0             0.896000  0.738000       0.878000       0.886000  0.872000"
            ],
            "text/html": [
              "\n",
              "  <div id=\"df-31bbc33e-549f-47a4-acf9-84490801e7f6\">\n",
              "    <div class=\"colab-df-container\">\n",
              "      <div>\n",
              "<style scoped>\n",
              "    .dataframe tbody tr th:only-of-type {\n",
              "        vertical-align: middle;\n",
              "    }\n",
              "\n",
              "    .dataframe tbody tr th {\n",
              "        vertical-align: top;\n",
              "    }\n",
              "\n",
              "    .dataframe thead th {\n",
              "        text-align: right;\n",
              "    }\n",
              "</style>\n",
              "<table border=\"1\" class=\"dataframe\">\n",
              "  <thead>\n",
              "    <tr style=\"text-align: right;\">\n",
              "      <th></th>\n",
              "      <th>Logistic Regression</th>\n",
              "      <th>KNN</th>\n",
              "      <th>Decision Tree</th>\n",
              "      <th>Random Forest</th>\n",
              "      <th>SVM</th>\n",
              "    </tr>\n",
              "  </thead>\n",
              "  <tbody>\n",
              "    <tr>\n",
              "      <th>10.0</th>\n",
              "      <td>0.830667</td>\n",
              "      <td>0.739778</td>\n",
              "      <td>0.819111</td>\n",
              "      <td>0.845556</td>\n",
              "      <td>0.783111</td>\n",
              "    </tr>\n",
              "    <tr>\n",
              "      <th>20.0</th>\n",
              "      <td>0.863500</td>\n",
              "      <td>0.727750</td>\n",
              "      <td>0.843000</td>\n",
              "      <td>0.871500</td>\n",
              "      <td>0.832750</td>\n",
              "    </tr>\n",
              "    <tr>\n",
              "      <th>30.0</th>\n",
              "      <td>0.881429</td>\n",
              "      <td>0.726286</td>\n",
              "      <td>0.856571</td>\n",
              "      <td>0.879714</td>\n",
              "      <td>0.847143</td>\n",
              "    </tr>\n",
              "    <tr>\n",
              "      <th>40.0</th>\n",
              "      <td>0.885667</td>\n",
              "      <td>0.736000</td>\n",
              "      <td>0.858000</td>\n",
              "      <td>0.886000</td>\n",
              "      <td>0.856333</td>\n",
              "    </tr>\n",
              "    <tr>\n",
              "      <th>50.0</th>\n",
              "      <td>0.892400</td>\n",
              "      <td>0.750800</td>\n",
              "      <td>0.866000</td>\n",
              "      <td>0.893200</td>\n",
              "      <td>0.864400</td>\n",
              "    </tr>\n",
              "    <tr>\n",
              "      <th>60.0</th>\n",
              "      <td>0.900500</td>\n",
              "      <td>0.750000</td>\n",
              "      <td>0.863500</td>\n",
              "      <td>0.898000</td>\n",
              "      <td>0.872500</td>\n",
              "    </tr>\n",
              "    <tr>\n",
              "      <th>70.0</th>\n",
              "      <td>0.909394</td>\n",
              "      <td>0.765490</td>\n",
              "      <td>0.874750</td>\n",
              "      <td>0.904064</td>\n",
              "      <td>0.880746</td>\n",
              "    </tr>\n",
              "    <tr>\n",
              "      <th>80.0</th>\n",
              "      <td>0.902000</td>\n",
              "      <td>0.742000</td>\n",
              "      <td>0.876000</td>\n",
              "      <td>0.900000</td>\n",
              "      <td>0.878000</td>\n",
              "    </tr>\n",
              "    <tr>\n",
              "      <th>90.0</th>\n",
              "      <td>0.896000</td>\n",
              "      <td>0.738000</td>\n",
              "      <td>0.878000</td>\n",
              "      <td>0.886000</td>\n",
              "      <td>0.872000</td>\n",
              "    </tr>\n",
              "  </tbody>\n",
              "</table>\n",
              "</div>\n",
              "      <button class=\"colab-df-convert\" onclick=\"convertToInteractive('df-31bbc33e-549f-47a4-acf9-84490801e7f6')\"\n",
              "              title=\"Convert this dataframe to an interactive table.\"\n",
              "              style=\"display:none;\">\n",
              "        \n",
              "  <svg xmlns=\"http://www.w3.org/2000/svg\" height=\"24px\"viewBox=\"0 0 24 24\"\n",
              "       width=\"24px\">\n",
              "    <path d=\"M0 0h24v24H0V0z\" fill=\"none\"/>\n",
              "    <path d=\"M18.56 5.44l.94 2.06.94-2.06 2.06-.94-2.06-.94-.94-2.06-.94 2.06-2.06.94zm-11 1L8.5 8.5l.94-2.06 2.06-.94-2.06-.94L8.5 2.5l-.94 2.06-2.06.94zm10 10l.94 2.06.94-2.06 2.06-.94-2.06-.94-.94-2.06-.94 2.06-2.06.94z\"/><path d=\"M17.41 7.96l-1.37-1.37c-.4-.4-.92-.59-1.43-.59-.52 0-1.04.2-1.43.59L10.3 9.45l-7.72 7.72c-.78.78-.78 2.05 0 2.83L4 21.41c.39.39.9.59 1.41.59.51 0 1.02-.2 1.41-.59l7.78-7.78 2.81-2.81c.8-.78.8-2.07 0-2.86zM5.41 20L4 18.59l7.72-7.72 1.47 1.35L5.41 20z\"/>\n",
              "  </svg>\n",
              "      </button>\n",
              "      \n",
              "  <style>\n",
              "    .colab-df-container {\n",
              "      display:flex;\n",
              "      flex-wrap:wrap;\n",
              "      gap: 12px;\n",
              "    }\n",
              "\n",
              "    .colab-df-convert {\n",
              "      background-color: #E8F0FE;\n",
              "      border: none;\n",
              "      border-radius: 50%;\n",
              "      cursor: pointer;\n",
              "      display: none;\n",
              "      fill: #1967D2;\n",
              "      height: 32px;\n",
              "      padding: 0 0 0 0;\n",
              "      width: 32px;\n",
              "    }\n",
              "\n",
              "    .colab-df-convert:hover {\n",
              "      background-color: #E2EBFA;\n",
              "      box-shadow: 0px 1px 2px rgba(60, 64, 67, 0.3), 0px 1px 3px 1px rgba(60, 64, 67, 0.15);\n",
              "      fill: #174EA6;\n",
              "    }\n",
              "\n",
              "    [theme=dark] .colab-df-convert {\n",
              "      background-color: #3B4455;\n",
              "      fill: #D2E3FC;\n",
              "    }\n",
              "\n",
              "    [theme=dark] .colab-df-convert:hover {\n",
              "      background-color: #434B5C;\n",
              "      box-shadow: 0px 1px 3px 1px rgba(0, 0, 0, 0.15);\n",
              "      filter: drop-shadow(0px 1px 2px rgba(0, 0, 0, 0.3));\n",
              "      fill: #FFFFFF;\n",
              "    }\n",
              "  </style>\n",
              "\n",
              "      <script>\n",
              "        const buttonEl =\n",
              "          document.querySelector('#df-31bbc33e-549f-47a4-acf9-84490801e7f6 button.colab-df-convert');\n",
              "        buttonEl.style.display =\n",
              "          google.colab.kernel.accessAllowed ? 'block' : 'none';\n",
              "\n",
              "        async function convertToInteractive(key) {\n",
              "          const element = document.querySelector('#df-31bbc33e-549f-47a4-acf9-84490801e7f6');\n",
              "          const dataTable =\n",
              "            await google.colab.kernel.invokeFunction('convertToInteractive',\n",
              "                                                     [key], {});\n",
              "          if (!dataTable) return;\n",
              "\n",
              "          const docLinkHtml = 'Like what you see? Visit the ' +\n",
              "            '<a target=\"_blank\" href=https://colab.research.google.com/notebooks/data_table.ipynb>data table notebook</a>'\n",
              "            + ' to learn more about interactive tables.';\n",
              "          element.innerHTML = '';\n",
              "          dataTable['output_type'] = 'display_data';\n",
              "          await google.colab.output.renderOutput(dataTable, element);\n",
              "          const docLink = document.createElement('div');\n",
              "          docLink.innerHTML = docLinkHtml;\n",
              "          element.appendChild(docLink);\n",
              "        }\n",
              "      </script>\n",
              "    </div>\n",
              "  </div>\n",
              "  "
            ]
          },
          "metadata": {},
          "execution_count": 29
        }
      ]
    },
    {
      "cell_type": "code",
      "source": [
        "precisions"
      ],
      "metadata": {
        "execution": {
          "iopub.status.busy": "2022-07-04T12:00:24.893540Z",
          "iopub.execute_input": "2022-07-04T12:00:24.894502Z",
          "iopub.status.idle": "2022-07-04T12:00:24.909148Z",
          "shell.execute_reply.started": "2022-07-04T12:00:24.894446Z",
          "shell.execute_reply": "2022-07-04T12:00:24.907772Z"
        },
        "trusted": true,
        "colab": {
          "base_uri": "https://localhost:8080/",
          "height": 332
        },
        "id": "_5dJXWvecR5v",
        "outputId": "f3eed7c7-4bb0-48a0-e2c7-ceb01b49fbf2"
      },
      "execution_count": 30,
      "outputs": [
        {
          "output_type": "execute_result",
          "data": {
            "text/plain": [
              "      Logistic Regression       KNN  Decision Tree  Random Forest       SVM\n",
              "10.0             0.915625  0.557423       0.790557       0.866585  0.954286\n",
              "20.0             0.914835  0.526091       0.813702       0.911917  0.925664\n",
              "30.0             0.920455  0.521548       0.838926       0.925872  0.918440\n",
              "40.0             0.901235  0.538883       0.811698       0.930579  0.892727\n",
              "50.0             0.894737  0.564000       0.825424       0.939689  0.889344\n",
              "60.0             0.917778  0.560976       0.821277       0.940618  0.937158\n",
              "70.0             0.930233  0.590498       0.824468       0.936364  0.937716\n",
              "80.0             0.916667  0.546296       0.815385       0.927273  0.932292\n",
              "90.0             0.933962  0.538922       0.860870       0.930693  0.925532"
            ],
            "text/html": [
              "\n",
              "  <div id=\"df-7071fada-24c7-4457-9eeb-3c80bb1688f6\">\n",
              "    <div class=\"colab-df-container\">\n",
              "      <div>\n",
              "<style scoped>\n",
              "    .dataframe tbody tr th:only-of-type {\n",
              "        vertical-align: middle;\n",
              "    }\n",
              "\n",
              "    .dataframe tbody tr th {\n",
              "        vertical-align: top;\n",
              "    }\n",
              "\n",
              "    .dataframe thead th {\n",
              "        text-align: right;\n",
              "    }\n",
              "</style>\n",
              "<table border=\"1\" class=\"dataframe\">\n",
              "  <thead>\n",
              "    <tr style=\"text-align: right;\">\n",
              "      <th></th>\n",
              "      <th>Logistic Regression</th>\n",
              "      <th>KNN</th>\n",
              "      <th>Decision Tree</th>\n",
              "      <th>Random Forest</th>\n",
              "      <th>SVM</th>\n",
              "    </tr>\n",
              "  </thead>\n",
              "  <tbody>\n",
              "    <tr>\n",
              "      <th>10.0</th>\n",
              "      <td>0.915625</td>\n",
              "      <td>0.557423</td>\n",
              "      <td>0.790557</td>\n",
              "      <td>0.866585</td>\n",
              "      <td>0.954286</td>\n",
              "    </tr>\n",
              "    <tr>\n",
              "      <th>20.0</th>\n",
              "      <td>0.914835</td>\n",
              "      <td>0.526091</td>\n",
              "      <td>0.813702</td>\n",
              "      <td>0.911917</td>\n",
              "      <td>0.925664</td>\n",
              "    </tr>\n",
              "    <tr>\n",
              "      <th>30.0</th>\n",
              "      <td>0.920455</td>\n",
              "      <td>0.521548</td>\n",
              "      <td>0.838926</td>\n",
              "      <td>0.925872</td>\n",
              "      <td>0.918440</td>\n",
              "    </tr>\n",
              "    <tr>\n",
              "      <th>40.0</th>\n",
              "      <td>0.901235</td>\n",
              "      <td>0.538883</td>\n",
              "      <td>0.811698</td>\n",
              "      <td>0.930579</td>\n",
              "      <td>0.892727</td>\n",
              "    </tr>\n",
              "    <tr>\n",
              "      <th>50.0</th>\n",
              "      <td>0.894737</td>\n",
              "      <td>0.564000</td>\n",
              "      <td>0.825424</td>\n",
              "      <td>0.939689</td>\n",
              "      <td>0.889344</td>\n",
              "    </tr>\n",
              "    <tr>\n",
              "      <th>60.0</th>\n",
              "      <td>0.917778</td>\n",
              "      <td>0.560976</td>\n",
              "      <td>0.821277</td>\n",
              "      <td>0.940618</td>\n",
              "      <td>0.937158</td>\n",
              "    </tr>\n",
              "    <tr>\n",
              "      <th>70.0</th>\n",
              "      <td>0.930233</td>\n",
              "      <td>0.590498</td>\n",
              "      <td>0.824468</td>\n",
              "      <td>0.936364</td>\n",
              "      <td>0.937716</td>\n",
              "    </tr>\n",
              "    <tr>\n",
              "      <th>80.0</th>\n",
              "      <td>0.916667</td>\n",
              "      <td>0.546296</td>\n",
              "      <td>0.815385</td>\n",
              "      <td>0.927273</td>\n",
              "      <td>0.932292</td>\n",
              "    </tr>\n",
              "    <tr>\n",
              "      <th>90.0</th>\n",
              "      <td>0.933962</td>\n",
              "      <td>0.538922</td>\n",
              "      <td>0.860870</td>\n",
              "      <td>0.930693</td>\n",
              "      <td>0.925532</td>\n",
              "    </tr>\n",
              "  </tbody>\n",
              "</table>\n",
              "</div>\n",
              "      <button class=\"colab-df-convert\" onclick=\"convertToInteractive('df-7071fada-24c7-4457-9eeb-3c80bb1688f6')\"\n",
              "              title=\"Convert this dataframe to an interactive table.\"\n",
              "              style=\"display:none;\">\n",
              "        \n",
              "  <svg xmlns=\"http://www.w3.org/2000/svg\" height=\"24px\"viewBox=\"0 0 24 24\"\n",
              "       width=\"24px\">\n",
              "    <path d=\"M0 0h24v24H0V0z\" fill=\"none\"/>\n",
              "    <path d=\"M18.56 5.44l.94 2.06.94-2.06 2.06-.94-2.06-.94-.94-2.06-.94 2.06-2.06.94zm-11 1L8.5 8.5l.94-2.06 2.06-.94-2.06-.94L8.5 2.5l-.94 2.06-2.06.94zm10 10l.94 2.06.94-2.06 2.06-.94-2.06-.94-.94-2.06-.94 2.06-2.06.94z\"/><path d=\"M17.41 7.96l-1.37-1.37c-.4-.4-.92-.59-1.43-.59-.52 0-1.04.2-1.43.59L10.3 9.45l-7.72 7.72c-.78.78-.78 2.05 0 2.83L4 21.41c.39.39.9.59 1.41.59.51 0 1.02-.2 1.41-.59l7.78-7.78 2.81-2.81c.8-.78.8-2.07 0-2.86zM5.41 20L4 18.59l7.72-7.72 1.47 1.35L5.41 20z\"/>\n",
              "  </svg>\n",
              "      </button>\n",
              "      \n",
              "  <style>\n",
              "    .colab-df-container {\n",
              "      display:flex;\n",
              "      flex-wrap:wrap;\n",
              "      gap: 12px;\n",
              "    }\n",
              "\n",
              "    .colab-df-convert {\n",
              "      background-color: #E8F0FE;\n",
              "      border: none;\n",
              "      border-radius: 50%;\n",
              "      cursor: pointer;\n",
              "      display: none;\n",
              "      fill: #1967D2;\n",
              "      height: 32px;\n",
              "      padding: 0 0 0 0;\n",
              "      width: 32px;\n",
              "    }\n",
              "\n",
              "    .colab-df-convert:hover {\n",
              "      background-color: #E2EBFA;\n",
              "      box-shadow: 0px 1px 2px rgba(60, 64, 67, 0.3), 0px 1px 3px 1px rgba(60, 64, 67, 0.15);\n",
              "      fill: #174EA6;\n",
              "    }\n",
              "\n",
              "    [theme=dark] .colab-df-convert {\n",
              "      background-color: #3B4455;\n",
              "      fill: #D2E3FC;\n",
              "    }\n",
              "\n",
              "    [theme=dark] .colab-df-convert:hover {\n",
              "      background-color: #434B5C;\n",
              "      box-shadow: 0px 1px 3px 1px rgba(0, 0, 0, 0.15);\n",
              "      filter: drop-shadow(0px 1px 2px rgba(0, 0, 0, 0.3));\n",
              "      fill: #FFFFFF;\n",
              "    }\n",
              "  </style>\n",
              "\n",
              "      <script>\n",
              "        const buttonEl =\n",
              "          document.querySelector('#df-7071fada-24c7-4457-9eeb-3c80bb1688f6 button.colab-df-convert');\n",
              "        buttonEl.style.display =\n",
              "          google.colab.kernel.accessAllowed ? 'block' : 'none';\n",
              "\n",
              "        async function convertToInteractive(key) {\n",
              "          const element = document.querySelector('#df-7071fada-24c7-4457-9eeb-3c80bb1688f6');\n",
              "          const dataTable =\n",
              "            await google.colab.kernel.invokeFunction('convertToInteractive',\n",
              "                                                     [key], {});\n",
              "          if (!dataTable) return;\n",
              "\n",
              "          const docLinkHtml = 'Like what you see? Visit the ' +\n",
              "            '<a target=\"_blank\" href=https://colab.research.google.com/notebooks/data_table.ipynb>data table notebook</a>'\n",
              "            + ' to learn more about interactive tables.';\n",
              "          element.innerHTML = '';\n",
              "          dataTable['output_type'] = 'display_data';\n",
              "          await google.colab.output.renderOutput(dataTable, element);\n",
              "          const docLink = document.createElement('div');\n",
              "          docLink.innerHTML = docLinkHtml;\n",
              "          element.appendChild(docLink);\n",
              "        }\n",
              "      </script>\n",
              "    </div>\n",
              "  </div>\n",
              "  "
            ]
          },
          "metadata": {},
          "execution_count": 30
        }
      ]
    },
    {
      "cell_type": "code",
      "source": [
        "recalls"
      ],
      "metadata": {
        "execution": {
          "iopub.status.busy": "2022-07-04T12:00:24.910881Z",
          "iopub.execute_input": "2022-07-04T12:00:24.911959Z",
          "iopub.status.idle": "2022-07-04T12:00:24.931291Z",
          "shell.execute_reply.started": "2022-07-04T12:00:24.911911Z",
          "shell.execute_reply": "2022-07-04T12:00:24.930240Z"
        },
        "trusted": true,
        "colab": {
          "base_uri": "https://localhost:8080/",
          "height": 332
        },
        "id": "N4j-6j0LcR5v",
        "outputId": "b8d5d331-9aa5-4026-8345-b496959257a5"
      },
      "execution_count": 31,
      "outputs": [
        {
          "output_type": "execute_result",
          "data": {
            "text/plain": [
              "      Logistic Regression       KNN  Decision Tree  Random Forest       SVM\n",
              "10.0             0.452859  0.461360       0.504637       0.547141  0.258114\n",
              "20.0             0.579130  0.534783       0.588696       0.612174  0.454783\n",
              "30.0             0.643496  0.588878       0.620655       0.632572  0.514399\n",
              "40.0             0.676709  0.570104       0.659328       0.652375  0.568946\n",
              "50.0             0.709318  0.588317       0.677330       0.671766  0.603616\n",
              "60.0             0.718261  0.600000       0.671304       0.688696  0.596522\n",
              "70.0             0.740741  0.604167       0.717593       0.715278  0.627315\n",
              "80.0             0.725694  0.614583       0.736111       0.708333  0.621528\n",
              "90.0             0.687500  0.625000       0.687500       0.652778  0.604167"
            ],
            "text/html": [
              "\n",
              "  <div id=\"df-a8e69261-7bce-40f7-ab3a-96666a9b7239\">\n",
              "    <div class=\"colab-df-container\">\n",
              "      <div>\n",
              "<style scoped>\n",
              "    .dataframe tbody tr th:only-of-type {\n",
              "        vertical-align: middle;\n",
              "    }\n",
              "\n",
              "    .dataframe tbody tr th {\n",
              "        vertical-align: top;\n",
              "    }\n",
              "\n",
              "    .dataframe thead th {\n",
              "        text-align: right;\n",
              "    }\n",
              "</style>\n",
              "<table border=\"1\" class=\"dataframe\">\n",
              "  <thead>\n",
              "    <tr style=\"text-align: right;\">\n",
              "      <th></th>\n",
              "      <th>Logistic Regression</th>\n",
              "      <th>KNN</th>\n",
              "      <th>Decision Tree</th>\n",
              "      <th>Random Forest</th>\n",
              "      <th>SVM</th>\n",
              "    </tr>\n",
              "  </thead>\n",
              "  <tbody>\n",
              "    <tr>\n",
              "      <th>10.0</th>\n",
              "      <td>0.452859</td>\n",
              "      <td>0.461360</td>\n",
              "      <td>0.504637</td>\n",
              "      <td>0.547141</td>\n",
              "      <td>0.258114</td>\n",
              "    </tr>\n",
              "    <tr>\n",
              "      <th>20.0</th>\n",
              "      <td>0.579130</td>\n",
              "      <td>0.534783</td>\n",
              "      <td>0.588696</td>\n",
              "      <td>0.612174</td>\n",
              "      <td>0.454783</td>\n",
              "    </tr>\n",
              "    <tr>\n",
              "      <th>30.0</th>\n",
              "      <td>0.643496</td>\n",
              "      <td>0.588878</td>\n",
              "      <td>0.620655</td>\n",
              "      <td>0.632572</td>\n",
              "      <td>0.514399</td>\n",
              "    </tr>\n",
              "    <tr>\n",
              "      <th>40.0</th>\n",
              "      <td>0.676709</td>\n",
              "      <td>0.570104</td>\n",
              "      <td>0.659328</td>\n",
              "      <td>0.652375</td>\n",
              "      <td>0.568946</td>\n",
              "    </tr>\n",
              "    <tr>\n",
              "      <th>50.0</th>\n",
              "      <td>0.709318</td>\n",
              "      <td>0.588317</td>\n",
              "      <td>0.677330</td>\n",
              "      <td>0.671766</td>\n",
              "      <td>0.603616</td>\n",
              "    </tr>\n",
              "    <tr>\n",
              "      <th>60.0</th>\n",
              "      <td>0.718261</td>\n",
              "      <td>0.600000</td>\n",
              "      <td>0.671304</td>\n",
              "      <td>0.688696</td>\n",
              "      <td>0.596522</td>\n",
              "    </tr>\n",
              "    <tr>\n",
              "      <th>70.0</th>\n",
              "      <td>0.740741</td>\n",
              "      <td>0.604167</td>\n",
              "      <td>0.717593</td>\n",
              "      <td>0.715278</td>\n",
              "      <td>0.627315</td>\n",
              "    </tr>\n",
              "    <tr>\n",
              "      <th>80.0</th>\n",
              "      <td>0.725694</td>\n",
              "      <td>0.614583</td>\n",
              "      <td>0.736111</td>\n",
              "      <td>0.708333</td>\n",
              "      <td>0.621528</td>\n",
              "    </tr>\n",
              "    <tr>\n",
              "      <th>90.0</th>\n",
              "      <td>0.687500</td>\n",
              "      <td>0.625000</td>\n",
              "      <td>0.687500</td>\n",
              "      <td>0.652778</td>\n",
              "      <td>0.604167</td>\n",
              "    </tr>\n",
              "  </tbody>\n",
              "</table>\n",
              "</div>\n",
              "      <button class=\"colab-df-convert\" onclick=\"convertToInteractive('df-a8e69261-7bce-40f7-ab3a-96666a9b7239')\"\n",
              "              title=\"Convert this dataframe to an interactive table.\"\n",
              "              style=\"display:none;\">\n",
              "        \n",
              "  <svg xmlns=\"http://www.w3.org/2000/svg\" height=\"24px\"viewBox=\"0 0 24 24\"\n",
              "       width=\"24px\">\n",
              "    <path d=\"M0 0h24v24H0V0z\" fill=\"none\"/>\n",
              "    <path d=\"M18.56 5.44l.94 2.06.94-2.06 2.06-.94-2.06-.94-.94-2.06-.94 2.06-2.06.94zm-11 1L8.5 8.5l.94-2.06 2.06-.94-2.06-.94L8.5 2.5l-.94 2.06-2.06.94zm10 10l.94 2.06.94-2.06 2.06-.94-2.06-.94-.94-2.06-.94 2.06-2.06.94z\"/><path d=\"M17.41 7.96l-1.37-1.37c-.4-.4-.92-.59-1.43-.59-.52 0-1.04.2-1.43.59L10.3 9.45l-7.72 7.72c-.78.78-.78 2.05 0 2.83L4 21.41c.39.39.9.59 1.41.59.51 0 1.02-.2 1.41-.59l7.78-7.78 2.81-2.81c.8-.78.8-2.07 0-2.86zM5.41 20L4 18.59l7.72-7.72 1.47 1.35L5.41 20z\"/>\n",
              "  </svg>\n",
              "      </button>\n",
              "      \n",
              "  <style>\n",
              "    .colab-df-container {\n",
              "      display:flex;\n",
              "      flex-wrap:wrap;\n",
              "      gap: 12px;\n",
              "    }\n",
              "\n",
              "    .colab-df-convert {\n",
              "      background-color: #E8F0FE;\n",
              "      border: none;\n",
              "      border-radius: 50%;\n",
              "      cursor: pointer;\n",
              "      display: none;\n",
              "      fill: #1967D2;\n",
              "      height: 32px;\n",
              "      padding: 0 0 0 0;\n",
              "      width: 32px;\n",
              "    }\n",
              "\n",
              "    .colab-df-convert:hover {\n",
              "      background-color: #E2EBFA;\n",
              "      box-shadow: 0px 1px 2px rgba(60, 64, 67, 0.3), 0px 1px 3px 1px rgba(60, 64, 67, 0.15);\n",
              "      fill: #174EA6;\n",
              "    }\n",
              "\n",
              "    [theme=dark] .colab-df-convert {\n",
              "      background-color: #3B4455;\n",
              "      fill: #D2E3FC;\n",
              "    }\n",
              "\n",
              "    [theme=dark] .colab-df-convert:hover {\n",
              "      background-color: #434B5C;\n",
              "      box-shadow: 0px 1px 3px 1px rgba(0, 0, 0, 0.15);\n",
              "      filter: drop-shadow(0px 1px 2px rgba(0, 0, 0, 0.3));\n",
              "      fill: #FFFFFF;\n",
              "    }\n",
              "  </style>\n",
              "\n",
              "      <script>\n",
              "        const buttonEl =\n",
              "          document.querySelector('#df-a8e69261-7bce-40f7-ab3a-96666a9b7239 button.colab-df-convert');\n",
              "        buttonEl.style.display =\n",
              "          google.colab.kernel.accessAllowed ? 'block' : 'none';\n",
              "\n",
              "        async function convertToInteractive(key) {\n",
              "          const element = document.querySelector('#df-a8e69261-7bce-40f7-ab3a-96666a9b7239');\n",
              "          const dataTable =\n",
              "            await google.colab.kernel.invokeFunction('convertToInteractive',\n",
              "                                                     [key], {});\n",
              "          if (!dataTable) return;\n",
              "\n",
              "          const docLinkHtml = 'Like what you see? Visit the ' +\n",
              "            '<a target=\"_blank\" href=https://colab.research.google.com/notebooks/data_table.ipynb>data table notebook</a>'\n",
              "            + ' to learn more about interactive tables.';\n",
              "          element.innerHTML = '';\n",
              "          dataTable['output_type'] = 'display_data';\n",
              "          await google.colab.output.renderOutput(dataTable, element);\n",
              "          const docLink = document.createElement('div');\n",
              "          docLink.innerHTML = docLinkHtml;\n",
              "          element.appendChild(docLink);\n",
              "        }\n",
              "      </script>\n",
              "    </div>\n",
              "  </div>\n",
              "  "
            ]
          },
          "metadata": {},
          "execution_count": 31
        }
      ]
    },
    {
      "cell_type": "markdown",
      "source": [
        "# Plot the accuracy, precision, and recall of the 5 models"
      ],
      "metadata": {
        "id": "YHQPGPydcR5v"
      }
    },
    {
      "cell_type": "code",
      "source": [
        "sns.set(rc={'figure.figsize':(15,8)})\n",
        "sns.set_style('whitegrid')\n",
        "g = sns.lineplot(data = accuracies, markers= ['o', 'o', 'o', 'o', 'o'])\n",
        "g.set(xlim = (0,100), ylim = (0.6,1), xticks = np.arange(0, 100, 10), yticks = np.arange(0.6, 1, 0.05))\n",
        "g.set_title(\"Accuracy vs Training Percentage for the Machine Learning Algorithms\")\n",
        "g.set_xlabel(\"Training Percentage\")\n",
        "g.set_ylabel(\"Accuracy\")"
      ],
      "metadata": {
        "execution": {
          "iopub.status.busy": "2022-07-04T12:00:24.932479Z",
          "iopub.execute_input": "2022-07-04T12:00:24.934141Z",
          "iopub.status.idle": "2022-07-04T12:00:25.322054Z",
          "shell.execute_reply.started": "2022-07-04T12:00:24.934093Z",
          "shell.execute_reply": "2022-07-04T12:00:25.320690Z"
        },
        "trusted": true,
        "colab": {
          "base_uri": "https://localhost:8080/",
          "height": 536
        },
        "id": "oWqRSXVucR5v",
        "outputId": "5a30dc3d-8a5c-49bc-a97c-1d906df91f6e"
      },
      "execution_count": 32,
      "outputs": [
        {
          "output_type": "execute_result",
          "data": {
            "text/plain": [
              "Text(0, 0.5, 'Accuracy')"
            ]
          },
          "metadata": {},
          "execution_count": 32
        },
        {
          "output_type": "display_data",
          "data": {
            "text/plain": [
              "<Figure size 1080x576 with 1 Axes>"
            ],
            "image/png": "[encoded data removed]"
          },
          "metadata": {}
        }
      ]
    },
    {
      "cell_type": "code",
      "source": [
        "sns.set(rc={'figure.figsize':(15,8)})\n",
        "sns.set_style('whitegrid')\n",
        "g = sns.lineplot(data = precisions, markers= ['o', 'o', 'o', 'o', 'o'])\n",
        "g.set(xlim = (0,100), ylim = (0.4,1), xticks = np.arange(0, 100, 10), yticks = np.arange(0.4, 1, 0.05))\n",
        "g.set_title(\"Precision vs Training Percentage for the Machine Learning Algorithms\")\n",
        "g.set_xlabel(\"Training Percentage\")\n",
        "g.set_ylabel(\"Precision\")"
      ],
      "metadata": {
        "execution": {
          "iopub.status.busy": "2022-07-04T12:00:25.323849Z",
          "iopub.execute_input": "2022-07-04T12:00:25.324175Z",
          "iopub.status.idle": "2022-07-04T12:00:25.704818Z",
          "shell.execute_reply.started": "2022-07-04T12:00:25.324140Z",
          "shell.execute_reply": "2022-07-04T12:00:25.703774Z"
        },
        "trusted": true,
        "colab": {
          "base_uri": "https://localhost:8080/",
          "height": 536
        },
        "id": "Opuv5w9KcR5v",
        "outputId": "5f8c76f5-8f86-4969-bbe2-1db34257bafb"
      },
      "execution_count": 33,
      "outputs": [
        {
          "output_type": "execute_result",
          "data": {
            "text/plain": [
              "Text(0, 0.5, 'Precision')"
            ]
          },
          "metadata": {},
          "execution_count": 33
        },
        {
          "output_type": "display_data",
          "data": {
            "text/plain": [
              "<Figure size 1080x576 with 1 Axes>"
            ],
            "image/png": "[encoded data removed]"
          },
          "metadata": {}
        }
      ]
    },
    {
      "cell_type": "code",
      "source": [
        "sns.set(rc={'figure.figsize':(15,8)})\n",
        "sns.set_style('whitegrid')\n",
        "g = sns.lineplot(data = recalls, markers= ['o', 'o', 'o', 'o', 'o'])\n",
        "g.set(xlim = (0,100), ylim = (0,1), xticks = np.arange(0, 100, 10), yticks = np.arange(0, 1, 0.05))\n",
        "g.set_title(\"Recall vs Training Percentage for the Machine Learning Algorithms\")\n",
        "g.set_xlabel(\"Training Percentage\")\n",
        "g.set_ylabel(\"Recall\")"
      ],
      "metadata": {
        "execution": {
          "iopub.status.busy": "2022-07-04T12:00:25.708350Z",
          "iopub.execute_input": "2022-07-04T12:00:25.709034Z",
          "iopub.status.idle": "2022-07-04T12:00:26.129274Z",
          "shell.execute_reply.started": "2022-07-04T12:00:25.708991Z",
          "shell.execute_reply": "2022-07-04T12:00:26.128329Z"
        },
        "trusted": true,
        "colab": {
          "base_uri": "https://localhost:8080/",
          "height": 536
        },
        "id": "o-29Gj0NcR5w",
        "outputId": "5dd50115-4e35-42a1-8c2c-7d7501b3a29c"
      },
      "execution_count": 34,
      "outputs": [
        {
          "output_type": "execute_result",
          "data": {
            "text/plain": [
              "Text(0, 0.5, 'Recall')"
            ]
          },
          "metadata": {},
          "execution_count": 34
        },
        {
          "output_type": "display_data",
          "data": {
            "text/plain": [
              "<Figure size 1080x576 with 1 Axes>"
            ],
            "image/png": "[encoded data removed]"
          },
          "metadata": {}
        }
      ]
    },
    {
      "cell_type": "code",
      "source": [
        "phishingPhone = pd.read_csv(\"/content/drive/My Drive/DS340W/phishingPhone.csv\")"
      ],
      "metadata": {
        "id": "wVh8RsATkqTX"
      },
      "execution_count": 35,
      "outputs": []
    },
    {
      "cell_type": "code",
      "source": [
        "X=np.array(phishingPhone[[\"phoneNum\"]])\n",
        "Y=np.array(phishingPhone[\"Label\"])"
      ],
      "metadata": {
        "id": "hKBs5xhok6sC"
      },
      "execution_count": 36,
      "outputs": []
    },
    {
      "cell_type": "code",
      "source": [
        "from sklearn.linear_model import LogisticRegression\n",
        "from sklearn.model_selection import train_test_split\n",
        "x_train,x_test,y_train,y_test=train_test_split(X,Y,test_size=0.2)"
      ],
      "metadata": {
        "id": "B_L3Sw46k98D"
      },
      "execution_count": 37,
      "outputs": []
    },
    {
      "cell_type": "code",
      "source": [
        "model=LogisticRegression(C=0.01,solver='liblinear')\n",
        "model.fit(x_train,y_train)\n",
        "model"
      ],
      "metadata": {
        "colab": {
          "base_uri": "https://localhost:8080/"
        },
        "id": "1qtcKTtRlIsY",
        "outputId": "5ad648c2-c7f8-4105-8a2b-e45b7bc56308"
      },
      "execution_count": 38,
      "outputs": [
        {
          "output_type": "execute_result",
          "data": {
            "text/plain": [
              "LogisticRegression(C=0.01, solver='liblinear')"
            ]
          },
          "metadata": {},
          "execution_count": 38
        }
      ]
    },
    {
      "cell_type": "code",
      "source": [],
      "metadata": {
        "id": "pJcDpLvClNzV"
      },
      "execution_count": null,
      "outputs": []
    }
  ]
}